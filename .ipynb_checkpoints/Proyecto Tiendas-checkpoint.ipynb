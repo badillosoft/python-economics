{
 "cells": [
  {
   "cell_type": "code",
   "execution_count": 40,
   "metadata": {
    "collapsed": false
   },
   "outputs": [
    {
     "name": "stdout",
     "output_type": "stream",
     "text": [
      "[u'Codigo', u'Latitud', u'Longitud']\n",
      "[{u'Latitud': -1, u'Codigo': 58901, u'Longitud': -7}]\n"
     ]
    }
   ],
   "source": [
    "import openpyxl as xl\n",
    "import geg\n",
    "\n",
    "wb = xl.load_workbook(\"recursos/tiendas.xlsx\", data_only=True)\n",
    "\n",
    "label_tiendas, tiendas = geg.load_data(wb[\"Tiendas\"][\"A1:C1470\"])\n",
    "\n",
    "print label_tiendas\n",
    "print tiendas[-1:]"
   ]
  },
  {
   "cell_type": "code",
   "execution_count": 41,
   "metadata": {
    "collapsed": false
   },
   "outputs": [
    {
     "name": "stdout",
     "output_type": "stream",
     "text": [
      "[{u'Codigo': 933271}, {u'Codigo': 672206}, {u'Codigo': 54562}, {u'Codigo': 392903}, {u'Codigo': 160190}, {u'Codigo': 380129}, {u'Codigo': 794982}, {u'Codigo': 249135}, {u'Codigo': 418550}, {u'Codigo': 445465}, {u'Codigo': 550867}]\n"
     ]
    }
   ],
   "source": [
    "label_interes, tiendas_interes = geg.load_data(wb[\"Interes\"][\"A1:A12\"])\n",
    "\n",
    "print tiendas_interes"
   ]
  },
  {
   "cell_type": "code",
   "execution_count": 42,
   "metadata": {
    "collapsed": false
   },
   "outputs": [
    {
     "name": "stdout",
     "output_type": "stream",
     "text": [
      "[933271, 672206, 54562, 392903, 160190, 380129, 794982, 249135, 418550, 445465, 550867]\n"
     ]
    }
   ],
   "source": [
    "codigos_interes = geg.data_column(tiendas_interes, \"Codigo\")\n",
    "\n",
    "print codigos_interes"
   ]
  },
  {
   "cell_type": "code",
   "execution_count": 44,
   "metadata": {
    "collapsed": false
   },
   "outputs": [
    {
     "name": "stdout",
     "output_type": "stream",
     "text": [
      "Codigo Seleccionado: 933271\n",
      "Tienda seleccionada: {u'Latitud': 2, u'Codigo': 933271, u'Longitud': -2}\n"
     ]
    }
   ],
   "source": [
    "codigo_seleccionado = codigos_interes[0]\n",
    "\n",
    "print \"Codigo Seleccionado:\", codigo_seleccionado\n",
    "\n",
    "tienda_seleccionada = geg.data_map(tiendas, lambda dic: dic[\"Codigo\"] == codigo_seleccionado)[0]\n",
    "\n",
    "print \"Tienda seleccionada:\", tienda_seleccionada"
   ]
  },
  {
   "cell_type": "code",
   "execution_count": 48,
   "metadata": {
    "collapsed": false
   },
   "outputs": [
    {
     "name": "stdout",
     "output_type": "stream",
     "text": [
      "[{u'Latitud': -3, u'Codigo': 114870, 'Distancia-933271': 786127.0798873553, u'Longitud': 3}, {u'Latitud': -2, u'Codigo': 274258, 'Distancia-933271': 1725881.7522431137, u'Longitud': -17}, {u'Latitud': -7, u'Codigo': 201485, 'Distancia-933271': 1144285.8900058228, u'Longitud': 3}, {u'Latitud': -10, u'Codigo': 618859, 'Distancia-933271': 1601560.524091027, u'Longitud': -10}, {u'Latitud': 2, u'Codigo': 531133, 'Distancia-933271': 2111404.690249066, u'Longitud': 17}, {u'Latitud': -8, u'Codigo': 579271, 'Distancia-933271': 1356124.3887546048, u'Longitud': -9}, {u'Latitud': -9, u'Codigo': 36776, 'Distancia-933271': 2434946.115386171, u'Longitud': 17}, {u'Latitud': 3, u'Codigo': 199223, 'Distancia-933271': 785522.7475707339, u'Longitud': -9}, {u'Latitud': 9, u'Codigo': 772526, 'Distancia-933271': 2035076.519203021, u'Longitud': -19}, {u'Latitud': -1, u'Codigo': 58901, 'Distancia-933271': 648299.6230646105, u'Longitud': -7}]\n"
     ]
    }
   ],
   "source": [
    "import math\n",
    "\n",
    "def distancia_tienda_seleccionada(tienda):\n",
    "    R = 6371 * 10 ** 3\n",
    "    \n",
    "    lat1 = tienda_seleccionada[\"Latitud\"] * math.pi / 180.\n",
    "    lat2 = tienda[\"Latitud\"] * math.pi / 180.\n",
    "    \n",
    "    long1 = tienda_seleccionada[\"Longitud\"] * math.pi / 180.\n",
    "    long2 = tienda[\"Longitud\"] * math.pi / 180.\n",
    "    \n",
    "    dlat = lat2 - lat1\n",
    "    dlong = long2 - long1\n",
    "    \n",
    "    a = math.sin(dlat / 2.) ** 2 + math.cos(lat1) * math.cos(lat2) * math.sin(dlong / 2.) ** 2\n",
    "    \n",
    "    c = 2 * math.atan2(a ** 0.5, (1 - a) ** 0.5)\n",
    "    \n",
    "    d = R * c\n",
    "    \n",
    "    return d\n",
    "    \n",
    "\n",
    "geg.data_append(tiendas, \"Distancia-%d\"%codigo_seleccionado, distancia_tienda_seleccionada)\n",
    "\n",
    "print tiendas[-10:]"
   ]
  }
 ],
 "metadata": {
  "kernelspec": {
   "display_name": "Python 2",
   "language": "python",
   "name": "python2"
  },
  "language_info": {
   "codemirror_mode": {
    "name": "ipython",
    "version": 2
   },
   "file_extension": ".py",
   "mimetype": "text/x-python",
   "name": "python",
   "nbconvert_exporter": "python",
   "pygments_lexer": "ipython2",
   "version": "2.7.13"
  }
 },
 "nbformat": 4,
 "nbformat_minor": 2
}
