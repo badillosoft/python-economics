{
 "cells": [
  {
   "cell_type": "markdown",
   "metadata": {},
   "source": [
    "# Librería GEG\n",
    "\n",
    "Autor: Alan Badillo Salas\n",
    "\n",
    "## Introducción\n",
    "\n",
    "Aquí se describe la librería `geg.py` construida para el curso de python con aplicaciones científicas.\n",
    "\n",
    "## Parte I - Adquisición de datos\n",
    "\n",
    "### 1. Cargar una matríz de datos desde un archivo de excel"
   ]
  },
  {
   "cell_type": "code",
   "execution_count": 5,
   "metadata": {
    "collapsed": false
   },
   "outputs": [
    {
     "name": "stdout",
     "output_type": "stream",
     "text": [
      "[[1, 1], [2, 4], [3, 9], [4, 16]]\n"
     ]
    }
   ],
   "source": [
    "import openpyxl as xl\n",
    "import geg\n",
    "\n",
    "# Creamos un workbook\n",
    "wb = xl.load_workbook(\"recursos/datos.xlsx\", data_only=True)\n",
    "\n",
    "# Obtenemos la matriz de celdas del excel y los mandamos a `load_mat`\n",
    "mat = geg.load_mat(wb[\"Hoja 1\"][\"A2:B5\"])\n",
    "\n",
    "print mat"
   ]
  },
  {
   "cell_type": "markdown",
   "metadata": {},
   "source": [
    "### 2. Cargar una lista de diccionarios desde un archivo de excel"
   ]
  },
  {
   "cell_type": "code",
   "execution_count": 9,
   "metadata": {
    "collapsed": false,
    "scrolled": true
   },
   "outputs": [
    {
     "name": "stdout",
     "output_type": "stream",
     "text": [
      "[u'X', u'Y']\n",
      "[{u'Y': 1, u'X': 1}, {u'Y': 4, u'X': 2}, {u'Y': 9, u'X': 3}, {u'Y': 16, u'X': 4}]\n"
     ]
    }
   ],
   "source": [
    "import openpyxl as xl\n",
    "import geg\n",
    "\n",
    "wb = xl.load_workbook(\"recursos/datos.xlsx\", data_only=True)\n",
    "\n",
    "labels, datos = geg.load_data(wb[\"Hoja 1\"][\"A1:B5\"])\n",
    "\n",
    "print labels\n",
    "\n",
    "print datos"
   ]
  },
  {
   "cell_type": "markdown",
   "metadata": {},
   "source": [
    "> Observe que `load_data` supone que la primer fila es la de las etiquetas y devuelve una lista de las etiquetas y una lista de diccionarios, donde cada diccionario contiene las etiquetas de las columnas (no ordenadas) y sus valores.\n",
    "\n",
    "### 3. Recuperar/Ajustar datos en matrices y listas de diccionarios"
   ]
  },
  {
   "cell_type": "code",
   "execution_count": 15,
   "metadata": {
    "collapsed": false
   },
   "outputs": [
    {
     "name": "stdout",
     "output_type": "stream",
     "text": [
      "[[1, 1], [2, 4], [3, 9], [4, 16]]\n",
      "[{u'Y': 1, u'X': 1}, {u'Y': 4, u'X': 2}, {u'Y': 9, u'X': 3}, {u'Y': 16, u'X': 4}]\n",
      "Matriz(fila=3, columna=2): 9\n",
      "Datos(fila=3, columna=Y) 9\n"
     ]
    }
   ],
   "source": [
    "print mat\n",
    "print datos\n",
    "\n",
    "# Imprimir el valor de la tercer fila, segunda columna\n",
    "print \"Matriz(fila=3, columna=2):\", mat[2][1]\n",
    "\n",
    "# Imprimir el valor de la tercer fila, columna `Y`\n",
    "print \"Datos(fila=3, columna=Y)\", datos[2][\"Y\"]"
   ]
  },
  {
   "cell_type": "markdown",
   "metadata": {},
   "source": [
    "> Observe que la matriz y la lista de diccionarios es equivalente, pero en la lista de diccionarios las columnas son nombradas, lo cual hace más fácil recuperar los datos.\n",
    "\n",
    "### 4. Generar una lista con la suma de dos columnas (X, Y)"
   ]
  },
  {
   "cell_type": "code",
   "execution_count": 17,
   "metadata": {
    "collapsed": false
   },
   "outputs": [
    {
     "name": "stdout",
     "output_type": "stream",
     "text": [
      "[2, 6, 12, 20]\n",
      "[2, 6, 12, 20]\n"
     ]
    }
   ],
   "source": [
    "SM = geg.data_map(mat, lambda row: row[0] + row[1])\n",
    "\n",
    "print SM\n",
    "\n",
    "SD = geg.data_map(datos, lambda dic: dic[\"X\"] + dic[\"Y\"])\n",
    "\n",
    "print SD"
   ]
  },
  {
   "cell_type": "markdown",
   "metadata": {},
   "source": [
    "> Observe que la diferencia de aplicar `data_map` a una matriz y a una lista de diccionarios es que la matriz es una lista de filas (row) y la lista de diccionarios contiene claves en lugar de indices.\n",
    "\n",
    "### 5. Generar una nueva columna a partir de los datos de las otras columnas"
   ]
  },
  {
   "cell_type": "code",
   "execution_count": 10,
   "metadata": {
    "collapsed": false
   },
   "outputs": [
    {
     "name": "stdout",
     "output_type": "stream",
     "text": [
      "[{'Y': 5, 'X': 1}, {'Y': 1, 'X': 2}, {'Y': 3, 'X': 3}, {'Y': 2, 'X': 4}, {'Y': 4, 'X': 5}]\n",
      "[{'Y': 5, 'X': 1, 'Z': -4}, {'Y': 1, 'X': 2, 'Z': 1}, {'Y': 3, 'X': 3, 'Z': 0}, {'Y': 2, 'X': 4, 'Z': 2}, {'Y': 4, 'X': 5, 'Z': 1}]\n"
     ]
    }
   ],
   "source": [
    "datos = [\n",
    "    { \"X\": 1, \"Y\": 5 },\n",
    "    { \"X\": 2, \"Y\": 1 },\n",
    "    { \"X\": 3, \"Y\": 3 },\n",
    "    { \"X\": 4, \"Y\": 2 },\n",
    "    { \"X\": 5, \"Y\": 4 }\n",
    "]\n",
    "\n",
    "print datos\n",
    "\n",
    "geg.data_append(datos, \"Z\", lambda dic: dic[\"X\"] - dic[\"Y\"])\n",
    "\n",
    "print datos"
   ]
  },
  {
   "cell_type": "markdown",
   "metadata": {},
   "source": [
    "* Ejercicio: Crear la columna `W` para los datos anteriores (`X`, `Y`, `Z`) bajo la regla: `2 * x + y * z ** 2`"
   ]
  },
  {
   "cell_type": "code",
   "execution_count": 14,
   "metadata": {
    "collapsed": false
   },
   "outputs": [
    {
     "name": "stdout",
     "output_type": "stream",
     "text": [
      "X [1, 2, 3, 4, 5]\n",
      "Y [5, 1, 3, 2, 4]\n",
      "Z [-4, 1, 0, 2, 1]\n",
      "W [82, 5, 6, 16, 14]\n"
     ]
    }
   ],
   "source": [
    "geg.data_append(datos, \"W\", lambda dic: 2 * dic[\"X\"] + dic[\"Y\"] * dic[\"Z\"] ** 2)\n",
    "\n",
    "print \"X\", geg.data_column(datos, \"X\")\n",
    "print \"Y\", geg.data_column(datos, \"Y\")\n",
    "print \"Z\", geg.data_column(datos, \"Z\")\n",
    "print \"W\", geg.data_column(datos, \"W\")"
   ]
  },
  {
   "cell_type": "markdown",
   "metadata": {},
   "source": [
    "### 6. Codificar datos categorícos no numéricos"
   ]
  },
  {
   "cell_type": "code",
   "execution_count": 1,
   "metadata": {
    "collapsed": false
   },
   "outputs": [
    {
     "name": "stdout",
     "output_type": "stream",
     "text": [
      "{'ND': 3, 'Trans': 4, 'Mujer': 1, 'Hombre': 2}\n",
      "[1, 1, 2, 1, 2, 3, 4, 2]\n"
     ]
    }
   ],
   "source": [
    "import geg\n",
    "\n",
    "datos = [\n",
    "    { \"Sexo\": \"Mujer\" },\n",
    "    { \"Sexo\": \"Mujer\" },\n",
    "    { \"Sexo\": \"Hombre\" },\n",
    "    { \"Sexo\": \"Mujer\" },\n",
    "    { \"Sexo\": \"Hombre\" },\n",
    "    { \"Sexo\": \"ND\" },\n",
    "    { \"Sexo\": \"Trans\" },\n",
    "    { \"Sexo\": \"Hombre\" }\n",
    "]\n",
    "\n",
    "encode = geg.data_encode(datos, \"Sexo\", \"Sexo_Num\")\n",
    "\n",
    "print encode\n",
    "\n",
    "print geg.data_column(datos, \"Sexo_Num\")"
   ]
  },
  {
   "cell_type": "markdown",
   "metadata": {},
   "source": [
    "### 7. Decodificar datos categorícos numéricos"
   ]
  },
  {
   "cell_type": "code",
   "execution_count": null,
   "metadata": {
    "collapsed": true
   },
   "outputs": [],
   "source": []
  },
  {
   "cell_type": "markdown",
   "metadata": {},
   "source": [
    "## Parte II - Graficación\n",
    "\n",
    "### 1. Graficar datos categóricos en forma de pastel"
   ]
  },
  {
   "cell_type": "code",
   "execution_count": 33,
   "metadata": {
    "collapsed": false
   },
   "outputs": [
    {
     "data": {
      "image/png": "[encoded data removed]",
      "text/plain": [
       "<matplotlib.figure.Figure at 0x1057e3690>"
      ]
     },
     "metadata": {},
     "output_type": "display_data"
    }
   ],
   "source": [
    "%matplotlib inline\n",
    "\n",
    "import matplotlib.pyplot as plt\n",
    "import geg\n",
    "\n",
    "# Definimos cuantos ejes queremos\n",
    "fig, (ax1, ax2) = plt.subplots(nrows=1, ncols=2)\n",
    "\n",
    "datos = [\n",
    "    { \"Edad\": 12, \"Sexo\": \"Hombre\" },\n",
    "    { \"Edad\": 23, \"Sexo\": \"Mujer\" },\n",
    "    { \"Edad\": 34, \"Sexo\": \"Mujer\" },\n",
    "    { \"Edad\": 45, \"Sexo\": \"Hombre\" },\n",
    "    { \"Edad\": 67, \"Sexo\": \"Hombre\" },\n",
    "    { \"Edad\": 78, \"Sexo\": \"Mujer\" },\n",
    "    { \"Edad\": 89, \"Sexo\": \"Hombre\" },\n",
    "    { \"Edad\": 98, \"Sexo\": \"Hombre\" },\n",
    "    { \"Edad\": 87, \"Sexo\": \"Mujer\" },\n",
    "    { \"Edad\": 76, \"Sexo\": \"Hombre\" },\n",
    "    { \"Edad\": 18, \"Sexo\": \"Mujer\" }\n",
    "]\n",
    "\n",
    "geg.data_cat(datos, \"Edad_Cat\", {\n",
    "    \"0-20\": lambda dic: dic[\"Edad\"] <= 20,\n",
    "    \"21-40\": lambda dic: dic[\"Edad\"] > 20 and dic[\"Edad\"] <= 40,\n",
    "    \"41-60\": lambda dic: dic[\"Edad\"] > 40 and dic[\"Edad\"] <= 60,\n",
    "    \"60+\": lambda dic: dic[\"Edad\"] > 60\n",
    "})\n",
    "\n",
    "geg.plot_pie(ax1, datos, \"Edad_Cat\")\n",
    "geg.plot_pie(ax2, datos, \"Sexo\")\n",
    "\n",
    "ax1.axis(\"equal\")\n",
    "ax2.axis(\"equal\")\n",
    "\n",
    "plt.show()"
   ]
  },
  {
   "cell_type": "markdown",
   "metadata": {},
   "source": [
    "### 2. Generar un histograma de datos repetibles"
   ]
  },
  {
   "cell_type": "code",
   "execution_count": 4,
   "metadata": {
    "collapsed": false
   },
   "outputs": [
    {
     "name": "stdout",
     "output_type": "stream",
     "text": [
      "{'Otro': 3, 'Mujer': 2, 'Hombre': 1}\n",
      "['Hombre', 'Mujer', 'Mujer', 'Hombre', 'Hombre', 'Mujer', 'Hombre', 'Otro', 'Mujer', 'Hombre', 'Hombre']\n",
      "[1, 2, 2, 1, 1, 2, 1, 3, 2, 1, 1]\n"
     ]
    },
    {
     "data": {
      "image/png": "[encoded data removed]",
      "text/plain": [
       "<matplotlib.figure.Figure at 0x1063eac50>"
      ]
     },
     "metadata": {},
     "output_type": "display_data"
    }
   ],
   "source": [
    "%matplotlib inline\n",
    "\n",
    "import matplotlib.pyplot as plt\n",
    "import geg\n",
    "\n",
    "# Definimos cuantos ejes queremos\n",
    "fig, (ax1, ax2) = plt.subplots(nrows=1, ncols=2)\n",
    "\n",
    "datos = [\n",
    "    { \"Edad\": 12, \"Sexo\": \"Hombre\" },\n",
    "    { \"Edad\": 23, \"Sexo\": \"Mujer\" },\n",
    "    { \"Edad\": 34, \"Sexo\": \"Mujer\" },\n",
    "    { \"Edad\": 45, \"Sexo\": \"Hombre\" },\n",
    "    { \"Edad\": 67, \"Sexo\": \"Hombre\" },\n",
    "    { \"Edad\": 78, \"Sexo\": \"Mujer\" },\n",
    "    { \"Edad\": 89, \"Sexo\": \"Hombre\" },\n",
    "    { \"Edad\": 98, \"Sexo\": \"Otro\" },\n",
    "    { \"Edad\": 87, \"Sexo\": \"Mujer\" },\n",
    "    { \"Edad\": 76, \"Sexo\": \"Hombre\" },\n",
    "    { \"Edad\": 18, \"Sexo\": \"Hombre\" }\n",
    "]\n",
    "\n",
    "encode = geg.data_encode(datos, \"Sexo\", \"Sexo_Cod\")\n",
    "\n",
    "print encode\n",
    "\n",
    "print geg.data_column(datos, \"Sexo\")\n",
    "print geg.data_column(datos, \"Sexo_Cod\")\n",
    "\n",
    "geg.plot_hist(ax1, 5, 0, 100, datos, \"Edad\")\n",
    "geg.plot_hist(ax2, 3, 0, 4, datos, \"Sexo_Cod\")\n",
    "\n",
    "plt.show()"
   ]
  },
  {
   "cell_type": "code",
   "execution_count": 9,
   "metadata": {
    "collapsed": false
   },
   "outputs": [
    {
     "name": "stdout",
     "output_type": "stream",
     "text": [
      "{'Rojo': 1, 'Azul': 2, 'Verde': 3, 'Amarillo': 4}\n"
     ]
    },
    {
     "data": {
      "image/png": "[encoded data removed]",
      "text/plain": [
       "<matplotlib.figure.Figure at 0x10658e550>"
      ]
     },
     "metadata": {},
     "output_type": "display_data"
    }
   ],
   "source": [
    "%matplotlib inline\n",
    "\n",
    "import matplotlib.pyplot as plt\n",
    "import geg\n",
    "\n",
    "datos = [\n",
    "    { \"Color\": \"Rojo\" },\n",
    "    { \"Color\": \"Rojo\" },\n",
    "    { \"Color\": \"Azul\" },\n",
    "    { \"Color\": \"Rojo\" },\n",
    "    { \"Color\": \"Verde\" },\n",
    "    { \"Color\": \"Rojo\" },\n",
    "    { \"Color\": \"Rojo\" },\n",
    "    { \"Color\": \"Verde\" },\n",
    "    { \"Color\": \"Rojo\" },\n",
    "    { \"Color\": \"Rojo\" },\n",
    "    { \"Color\": \"Azul\" },\n",
    "    { \"Color\": \"Amarillo\" }\n",
    "]\n",
    "\n",
    "encode = geg.data_encode(datos, \"Color\", \"Color_X\")\n",
    "\n",
    "print encode\n",
    "\n",
    "geg.plot_hist(plt, 4, 0, 5, datos, \"Color_X\")\n",
    "\n",
    "plt.show()"
   ]
  },
  {
   "cell_type": "code",
   "execution_count": null,
   "metadata": {
    "collapsed": true
   },
   "outputs": [],
   "source": []
  },
  {
   "cell_type": "code",
   "execution_count": null,
   "metadata": {
    "collapsed": true
   },
   "outputs": [],
   "source": []
  },
  {
   "cell_type": "code",
   "execution_count": null,
   "metadata": {
    "collapsed": true
   },
   "outputs": [],
   "source": []
  },
  {
   "cell_type": "code",
   "execution_count": null,
   "metadata": {
    "collapsed": true
   },
   "outputs": [],
   "source": []
  },
  {
   "cell_type": "code",
   "execution_count": null,
   "metadata": {
    "collapsed": true
   },
   "outputs": [],
   "source": []
  },
  {
   "cell_type": "code",
   "execution_count": null,
   "metadata": {
    "collapsed": true
   },
   "outputs": [],
   "source": []
  }
 ],
 "metadata": {
  "kernelspec": {
   "display_name": "Python 2",
   "language": "python",
   "name": "python2"
  },
  "language_info": {
   "codemirror_mode": {
    "name": "ipython",
    "version": 2
   },
   "file_extension": ".py",
   "mimetype": "text/x-python",
   "name": "python",
   "nbconvert_exporter": "python",
   "pygments_lexer": "ipython2",
   "version": "2.7.13"
  }
 },
 "nbformat": 4,
 "nbformat_minor": 2
}
